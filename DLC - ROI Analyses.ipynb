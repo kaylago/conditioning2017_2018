{
 "cells": [
  {
   "cell_type": "code",
   "execution_count": 1,
   "metadata": {},
   "outputs": [],
   "source": [
    "# Importing the toolbox (takes several seconds)\n",
    "import pandas as pd\n",
    "from pathlib import Path\n",
    "import numpy as np\n",
    "import os\n",
    "import matplotlib.pyplot as plt"
   ]
  },
  {
   "cell_type": "code",
   "execution_count": null,
   "metadata": {},
   "outputs": [],
   "source": [
    "# this is example data from the public project: https://github.com/AlexEMG/DeepLabCut/tree/master/examples/openfield-Pranav-2018-10-30\n",
    "video='m3v1mp4.mp4'\n",
    "DLCscorer='DeepCut_resnet50_openfieldOct30shuffle1_15001'\n",
    "\n",
    "dataname = str(Path(video).stem) + DLCscorer + '.h5'\n",
    "\n",
    "#loading output of DLC\n",
    "Dataframe = pd.read_hdf(os.path.join(dataname))"
   ]
  },
  {
   "cell_type": "code",
   "execution_count": null,
   "metadata": {},
   "outputs": [],
   "source": [
    "Dataframe.head()"
   ]
  },
  {
   "cell_type": "code",
   "execution_count": null,
   "metadata": {},
   "outputs": [],
   "source": [
    "# The plotting functions below are put here for simplicity and so that the user can edit them. Note that they \n",
    "# (or variants thereof) are in fact in standard DLC and accessible via:\n",
    "\n",
    "import deeplabcut\n",
    "deeplabcut.utils.plotting.PlottingResults?"
   ]
  },
  {
   "cell_type": "code",
   "execution_count": null,
   "metadata": {},
   "outputs": [],
   "source": [
    "def get_cmap(n, name='hsv'):\n",
    "    return plt.cm.get_cmap(name, n)\n",
    "\n",
    "def Histogram(vector,color,bins):\n",
    "    dvector=np.diff(vector)\n",
    "    dvector=dvector[np.isfinite(dvector)]\n",
    "    plt.hist(dvector,color=color,histtype='step',bins=bins)\n",
    "\n",
    "def PlottingResults(Dataframe,bodyparts2plot,alphavalue=.2,pcutoff=.5,colormap='jet',fs=(4,3)):\n",
    "    ''' Plots poses vs time; pose x vs pose y; histogram of differences and likelihoods.'''\n",
    "    plt.figure(figsize=fs)\n",
    "    colors = get_cmap(len(bodyparts2plot),name = colormap)\n",
    "    scorer=Dataframe.columns.get_level_values(0)[0] #you can read out the header to get the scorer name!\n",
    "\n",
    "    for bpindex, bp in enumerate(bodyparts2plot):\n",
    "        Index=Dataframe[scorer][bp]['likelihood'].values > pcutoff\n",
    "        plt.plot(Dataframe[scorer][bp]['x'].values[Index],Dataframe[scorer][bp]['y'].values[Index],'.',color=colors(bpindex),alpha=alphavalue)\n",
    "\n",
    "    plt.gca().invert_yaxis()\n",
    "\n",
    "    sm = plt.cm.ScalarMappable(cmap=plt.get_cmap(colormap), norm=plt.Normalize(vmin=0, vmax=len(bodyparts2plot)-1))\n",
    "    sm._A = []\n",
    "    cbar = plt.colorbar(sm,ticks=range(len(bodyparts2plot)))\n",
    "    cbar.set_ticklabels(bodyparts2plot)\n",
    "    #plt.savefig(os.path.join(tmpfolder,\"trajectory\"+suffix))\n",
    "    plt.figure(figsize=fs)\n",
    "    Time=np.arange(np.size(Dataframe[scorer][bodyparts2plot[0]]['x'].values))\n",
    "\n",
    "    for bpindex, bp in enumerate(bodyparts2plot):\n",
    "        Index=Dataframe[scorer][bp]['likelihood'].values > pcutoff\n",
    "        plt.plot(Time[Index],Dataframe[scorer][bp]['x'].values[Index],'--',color=colors(bpindex),alpha=alphavalue)\n",
    "        plt.plot(Time[Index],Dataframe[scorer][bp]['y'].values[Index],'-',color=colors(bpindex),alpha=alphavalue)\n",
    "\n",
    "    sm = plt.cm.ScalarMappable(cmap=plt.get_cmap(colormap), norm=plt.Normalize(vmin=0, vmax=len(bodyparts2plot)-1))\n",
    "    sm._A = []\n",
    "    cbar = plt.colorbar(sm,ticks=range(len(bodyparts2plot)))\n",
    "    cbar.set_ticklabels(bodyparts2plot)\n",
    "    plt.xlabel('Frame index')\n",
    "    plt.ylabel('X and y-position in pixels')\n",
    "    #plt.savefig(os.path.join(tmpfolder,\"plot\"+suffix))\n",
    "\n",
    "    plt.figure(figsize=fs)\n",
    "    for bpindex, bp in enumerate(bodyparts2plot):\n",
    "        Index=Dataframe[scorer][bp]['likelihood'].values > pcutoff\n",
    "        plt.plot(Time,Dataframe[scorer][bp]['likelihood'].values,'-',color=colors(bpindex),alpha=alphavalue)\n",
    "\n",
    "    sm = plt.cm.ScalarMappable(cmap=plt.get_cmap(colormap), norm=plt.Normalize(vmin=0, vmax=len(bodyparts2plot)-1))\n",
    "    sm._A = []\n",
    "    cbar = plt.colorbar(sm,ticks=range(len(bodyparts2plot)))\n",
    "    cbar.set_ticklabels(bodyparts2plot)\n",
    "    plt.xlabel('Frame index')\n",
    "    plt.ylabel('likelihood')\n",
    "\n",
    "    #plt.savefig(os.path.join(tmpfolder,\"plot-likelihood\"+suffix))\n",
    "plt.figure(figsize=fs)\n",
    "    bins=np.linspace(0,np.amax(Dataframe.max()),100)\n",
    "\n",
    "    for bpindex, bp in enumerate(bodyparts2plot):\n",
    "        Index=Dataframe[scorer][bp]['likelihood'].values < pcutoff\n",
    "        X=Dataframe[scorer][bp]['x'].values\n",
    "        X[Index]=np.nan\n",
    "        Histogram(X,colors(bpindex),bins)\n",
    "        Y=Dataframe[scorer][bp]['x'].values\n",
    "        Y[Index]=np.nan\n",
    "        Histogram(Y,colors(bpindex),bins)\n",
    "\n",
    "    sm = plt.cm.ScalarMappable(cmap=plt.get_cmap(colormap), norm=plt.Normalize(vmin=0, vmax=len(bodyparts2plot)-1))\n",
    "    sm._A = []\n",
    "    cbar = plt.colorbar(sm,ticks=range(len(bodyparts2plot)))\n",
    "    cbar.set_ticklabels(bodyparts2plot)\n",
    "    plt.ylabel('Count')\n",
    "    plt.xlabel('DeltaX and DeltaY')\n",
    "    \n",
    "    #plt.savefig(os.path.join(tmpfolder,\"hist\"+suffix))"
   ]
  },
  {
   "cell_type": "code",
   "execution_count": null,
   "metadata": {},
   "outputs": [],
   "source": [
    "bodyparts=Dataframe.columns.get_level_values(1) #you can read out the header to get body part names!\n",
    "\n",
    "bodyparts2plot=bodyparts #you could also take a subset, i.e. =['snout']\n",
    "\n",
    "%matplotlib inline\n",
    "PlottingResults(Dataframe,bodyparts2plot,alphavalue=.2,pcutoff=.5,fs=(8,4))\n",
    "\n",
    "# These plots can are interactive and can be customized (see https://matplotlib.org/) [in the code above]\n",
    "# note that the snout and other bpts jitter in this example that was not trained for long."
   ]
  },
  {
   "cell_type": "code",
   "execution_count": null,
   "metadata": {},
   "outputs": [],
   "source": []
  },
  {
   "cell_type": "code",
   "execution_count": null,
   "metadata": {},
   "outputs": [],
   "source": []
  },
  {
   "cell_type": "code",
   "execution_count": null,
   "metadata": {},
   "outputs": [],
   "source": []
  },
  {
   "cell_type": "code",
   "execution_count": null,
   "metadata": {},
   "outputs": [],
   "source": []
  }
 ],
 "metadata": {
  "kernelspec": {
   "display_name": "Python 3",
   "language": "python",
   "name": "python3"
  },
  "language_info": {
   "codemirror_mode": {
    "name": "ipython",
    "version": 3
   },
   "file_extension": ".py",
   "mimetype": "text/x-python",
   "name": "python",
   "nbconvert_exporter": "python",
   "pygments_lexer": "ipython3",
   "version": "3.8.5"
  }
 },
 "nbformat": 4,
 "nbformat_minor": 4
}
